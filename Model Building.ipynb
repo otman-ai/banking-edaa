{
 "cells": [
  {
   "cell_type": "code",
   "execution_count": 227,
   "id": "4f8f9883",
   "metadata": {},
   "outputs": [],
   "source": [
    "import pandas as pd"
   ]
  },
  {
   "cell_type": "code",
   "execution_count": 228,
   "id": "5c225cdd",
   "metadata": {},
   "outputs": [
    {
     "data": {
      "text/html": [
       "<div>\n",
       "<style scoped>\n",
       "    .dataframe tbody tr th:only-of-type {\n",
       "        vertical-align: middle;\n",
       "    }\n",
       "\n",
       "    .dataframe tbody tr th {\n",
       "        vertical-align: top;\n",
       "    }\n",
       "\n",
       "    .dataframe thead th {\n",
       "        text-align: right;\n",
       "    }\n",
       "</style>\n",
       "<table border=\"1\" class=\"dataframe\">\n",
       "  <thead>\n",
       "    <tr style=\"text-align: right;\">\n",
       "      <th></th>\n",
       "      <th>Unnamed: 0</th>\n",
       "      <th>age</th>\n",
       "      <th>job</th>\n",
       "      <th>marital</th>\n",
       "      <th>education</th>\n",
       "      <th>default</th>\n",
       "      <th>housing</th>\n",
       "      <th>loan</th>\n",
       "      <th>contact</th>\n",
       "      <th>month</th>\n",
       "      <th>...</th>\n",
       "      <th>pdays</th>\n",
       "      <th>previous</th>\n",
       "      <th>poutcome</th>\n",
       "      <th>emp.var.rate</th>\n",
       "      <th>cons.price.idx</th>\n",
       "      <th>cons.conf.idx</th>\n",
       "      <th>euribor3m</th>\n",
       "      <th>nr.employed</th>\n",
       "      <th>y</th>\n",
       "      <th>y_class</th>\n",
       "    </tr>\n",
       "  </thead>\n",
       "  <tbody>\n",
       "    <tr>\n",
       "      <th>0</th>\n",
       "      <td>0</td>\n",
       "      <td>56</td>\n",
       "      <td>housemaid</td>\n",
       "      <td>married</td>\n",
       "      <td>basic.4y</td>\n",
       "      <td>no</td>\n",
       "      <td>no</td>\n",
       "      <td>no</td>\n",
       "      <td>telephone</td>\n",
       "      <td>may</td>\n",
       "      <td>...</td>\n",
       "      <td>999</td>\n",
       "      <td>0</td>\n",
       "      <td>nonexistent</td>\n",
       "      <td>1.1</td>\n",
       "      <td>93.994</td>\n",
       "      <td>-36.4</td>\n",
       "      <td>4.857</td>\n",
       "      <td>5191.0</td>\n",
       "      <td>no</td>\n",
       "      <td>0</td>\n",
       "    </tr>\n",
       "    <tr>\n",
       "      <th>1</th>\n",
       "      <td>1</td>\n",
       "      <td>57</td>\n",
       "      <td>services</td>\n",
       "      <td>married</td>\n",
       "      <td>high.school</td>\n",
       "      <td>unknown</td>\n",
       "      <td>no</td>\n",
       "      <td>no</td>\n",
       "      <td>telephone</td>\n",
       "      <td>may</td>\n",
       "      <td>...</td>\n",
       "      <td>999</td>\n",
       "      <td>0</td>\n",
       "      <td>nonexistent</td>\n",
       "      <td>1.1</td>\n",
       "      <td>93.994</td>\n",
       "      <td>-36.4</td>\n",
       "      <td>4.857</td>\n",
       "      <td>5191.0</td>\n",
       "      <td>no</td>\n",
       "      <td>0</td>\n",
       "    </tr>\n",
       "    <tr>\n",
       "      <th>2</th>\n",
       "      <td>2</td>\n",
       "      <td>37</td>\n",
       "      <td>services</td>\n",
       "      <td>married</td>\n",
       "      <td>high.school</td>\n",
       "      <td>no</td>\n",
       "      <td>yes</td>\n",
       "      <td>no</td>\n",
       "      <td>telephone</td>\n",
       "      <td>may</td>\n",
       "      <td>...</td>\n",
       "      <td>999</td>\n",
       "      <td>0</td>\n",
       "      <td>nonexistent</td>\n",
       "      <td>1.1</td>\n",
       "      <td>93.994</td>\n",
       "      <td>-36.4</td>\n",
       "      <td>4.857</td>\n",
       "      <td>5191.0</td>\n",
       "      <td>no</td>\n",
       "      <td>0</td>\n",
       "    </tr>\n",
       "    <tr>\n",
       "      <th>3</th>\n",
       "      <td>3</td>\n",
       "      <td>40</td>\n",
       "      <td>admin.</td>\n",
       "      <td>married</td>\n",
       "      <td>basic.6y</td>\n",
       "      <td>no</td>\n",
       "      <td>no</td>\n",
       "      <td>no</td>\n",
       "      <td>telephone</td>\n",
       "      <td>may</td>\n",
       "      <td>...</td>\n",
       "      <td>999</td>\n",
       "      <td>0</td>\n",
       "      <td>nonexistent</td>\n",
       "      <td>1.1</td>\n",
       "      <td>93.994</td>\n",
       "      <td>-36.4</td>\n",
       "      <td>4.857</td>\n",
       "      <td>5191.0</td>\n",
       "      <td>no</td>\n",
       "      <td>0</td>\n",
       "    </tr>\n",
       "    <tr>\n",
       "      <th>4</th>\n",
       "      <td>4</td>\n",
       "      <td>56</td>\n",
       "      <td>services</td>\n",
       "      <td>married</td>\n",
       "      <td>high.school</td>\n",
       "      <td>no</td>\n",
       "      <td>no</td>\n",
       "      <td>yes</td>\n",
       "      <td>telephone</td>\n",
       "      <td>may</td>\n",
       "      <td>...</td>\n",
       "      <td>999</td>\n",
       "      <td>0</td>\n",
       "      <td>nonexistent</td>\n",
       "      <td>1.1</td>\n",
       "      <td>93.994</td>\n",
       "      <td>-36.4</td>\n",
       "      <td>4.857</td>\n",
       "      <td>5191.0</td>\n",
       "      <td>no</td>\n",
       "      <td>0</td>\n",
       "    </tr>\n",
       "  </tbody>\n",
       "</table>\n",
       "<p>5 rows × 23 columns</p>\n",
       "</div>"
      ],
      "text/plain": [
       "   Unnamed: 0  age        job  marital    education  default housing loan  \\\n",
       "0           0   56  housemaid  married     basic.4y       no      no   no   \n",
       "1           1   57   services  married  high.school  unknown      no   no   \n",
       "2           2   37   services  married  high.school       no     yes   no   \n",
       "3           3   40     admin.  married     basic.6y       no      no   no   \n",
       "4           4   56   services  married  high.school       no      no  yes   \n",
       "\n",
       "     contact month  ... pdays  previous     poutcome  emp.var.rate  \\\n",
       "0  telephone   may  ...   999         0  nonexistent           1.1   \n",
       "1  telephone   may  ...   999         0  nonexistent           1.1   \n",
       "2  telephone   may  ...   999         0  nonexistent           1.1   \n",
       "3  telephone   may  ...   999         0  nonexistent           1.1   \n",
       "4  telephone   may  ...   999         0  nonexistent           1.1   \n",
       "\n",
       "   cons.price.idx cons.conf.idx  euribor3m  nr.employed   y  y_class  \n",
       "0          93.994         -36.4      4.857       5191.0  no        0  \n",
       "1          93.994         -36.4      4.857       5191.0  no        0  \n",
       "2          93.994         -36.4      4.857       5191.0  no        0  \n",
       "3          93.994         -36.4      4.857       5191.0  no        0  \n",
       "4          93.994         -36.4      4.857       5191.0  no        0  \n",
       "\n",
       "[5 rows x 23 columns]"
      ]
     },
     "execution_count": 228,
     "metadata": {},
     "output_type": "execute_result"
    }
   ],
   "source": [
    "df_model = pd.read_csv(\"Dataset/data.csv\")\n",
    "df_model.head()"
   ]
  },
  {
   "cell_type": "code",
   "execution_count": 229,
   "id": "1f4965e9",
   "metadata": {},
   "outputs": [
    {
     "data": {
      "text/plain": [
       "Index(['Unnamed: 0', 'age', 'job', 'marital', 'education', 'default',\n",
       "       'housing', 'loan', 'contact', 'month', 'day_of_week', 'duration',\n",
       "       'campaign', 'pdays', 'previous', 'poutcome', 'emp.var.rate',\n",
       "       'cons.price.idx', 'cons.conf.idx', 'euribor3m', 'nr.employed', 'y',\n",
       "       'y_class'],\n",
       "      dtype='object')"
      ]
     },
     "execution_count": 229,
     "metadata": {},
     "output_type": "execute_result"
    }
   ],
   "source": [
    "df_model.columns"
   ]
  },
  {
   "cell_type": "code",
   "execution_count": 230,
   "id": "f9b3efac",
   "metadata": {},
   "outputs": [],
   "source": [
    "df_model = df_model.drop(\"Unnamed: 0\",axis=1)"
   ]
  },
  {
   "cell_type": "code",
   "execution_count": 231,
   "id": "32a1c488",
   "metadata": {},
   "outputs": [
    {
     "data": {
      "text/html": [
       "<div>\n",
       "<style scoped>\n",
       "    .dataframe tbody tr th:only-of-type {\n",
       "        vertical-align: middle;\n",
       "    }\n",
       "\n",
       "    .dataframe tbody tr th {\n",
       "        vertical-align: top;\n",
       "    }\n",
       "\n",
       "    .dataframe thead th {\n",
       "        text-align: right;\n",
       "    }\n",
       "</style>\n",
       "<table border=\"1\" class=\"dataframe\">\n",
       "  <thead>\n",
       "    <tr style=\"text-align: right;\">\n",
       "      <th></th>\n",
       "      <th>age</th>\n",
       "      <th>job</th>\n",
       "      <th>marital</th>\n",
       "      <th>education</th>\n",
       "      <th>default</th>\n",
       "      <th>housing</th>\n",
       "      <th>loan</th>\n",
       "      <th>contact</th>\n",
       "      <th>month</th>\n",
       "      <th>day_of_week</th>\n",
       "      <th>...</th>\n",
       "      <th>pdays</th>\n",
       "      <th>previous</th>\n",
       "      <th>poutcome</th>\n",
       "      <th>emp.var.rate</th>\n",
       "      <th>cons.price.idx</th>\n",
       "      <th>cons.conf.idx</th>\n",
       "      <th>euribor3m</th>\n",
       "      <th>nr.employed</th>\n",
       "      <th>y</th>\n",
       "      <th>y_class</th>\n",
       "    </tr>\n",
       "  </thead>\n",
       "  <tbody>\n",
       "    <tr>\n",
       "      <th>0</th>\n",
       "      <td>56</td>\n",
       "      <td>housemaid</td>\n",
       "      <td>married</td>\n",
       "      <td>basic.4y</td>\n",
       "      <td>no</td>\n",
       "      <td>no</td>\n",
       "      <td>no</td>\n",
       "      <td>telephone</td>\n",
       "      <td>may</td>\n",
       "      <td>mon</td>\n",
       "      <td>...</td>\n",
       "      <td>999</td>\n",
       "      <td>0</td>\n",
       "      <td>nonexistent</td>\n",
       "      <td>1.1</td>\n",
       "      <td>93.994</td>\n",
       "      <td>-36.4</td>\n",
       "      <td>4.857</td>\n",
       "      <td>5191.0</td>\n",
       "      <td>no</td>\n",
       "      <td>0</td>\n",
       "    </tr>\n",
       "    <tr>\n",
       "      <th>1</th>\n",
       "      <td>57</td>\n",
       "      <td>services</td>\n",
       "      <td>married</td>\n",
       "      <td>high.school</td>\n",
       "      <td>unknown</td>\n",
       "      <td>no</td>\n",
       "      <td>no</td>\n",
       "      <td>telephone</td>\n",
       "      <td>may</td>\n",
       "      <td>mon</td>\n",
       "      <td>...</td>\n",
       "      <td>999</td>\n",
       "      <td>0</td>\n",
       "      <td>nonexistent</td>\n",
       "      <td>1.1</td>\n",
       "      <td>93.994</td>\n",
       "      <td>-36.4</td>\n",
       "      <td>4.857</td>\n",
       "      <td>5191.0</td>\n",
       "      <td>no</td>\n",
       "      <td>0</td>\n",
       "    </tr>\n",
       "    <tr>\n",
       "      <th>2</th>\n",
       "      <td>37</td>\n",
       "      <td>services</td>\n",
       "      <td>married</td>\n",
       "      <td>high.school</td>\n",
       "      <td>no</td>\n",
       "      <td>yes</td>\n",
       "      <td>no</td>\n",
       "      <td>telephone</td>\n",
       "      <td>may</td>\n",
       "      <td>mon</td>\n",
       "      <td>...</td>\n",
       "      <td>999</td>\n",
       "      <td>0</td>\n",
       "      <td>nonexistent</td>\n",
       "      <td>1.1</td>\n",
       "      <td>93.994</td>\n",
       "      <td>-36.4</td>\n",
       "      <td>4.857</td>\n",
       "      <td>5191.0</td>\n",
       "      <td>no</td>\n",
       "      <td>0</td>\n",
       "    </tr>\n",
       "    <tr>\n",
       "      <th>3</th>\n",
       "      <td>40</td>\n",
       "      <td>admin.</td>\n",
       "      <td>married</td>\n",
       "      <td>basic.6y</td>\n",
       "      <td>no</td>\n",
       "      <td>no</td>\n",
       "      <td>no</td>\n",
       "      <td>telephone</td>\n",
       "      <td>may</td>\n",
       "      <td>mon</td>\n",
       "      <td>...</td>\n",
       "      <td>999</td>\n",
       "      <td>0</td>\n",
       "      <td>nonexistent</td>\n",
       "      <td>1.1</td>\n",
       "      <td>93.994</td>\n",
       "      <td>-36.4</td>\n",
       "      <td>4.857</td>\n",
       "      <td>5191.0</td>\n",
       "      <td>no</td>\n",
       "      <td>0</td>\n",
       "    </tr>\n",
       "    <tr>\n",
       "      <th>4</th>\n",
       "      <td>56</td>\n",
       "      <td>services</td>\n",
       "      <td>married</td>\n",
       "      <td>high.school</td>\n",
       "      <td>no</td>\n",
       "      <td>no</td>\n",
       "      <td>yes</td>\n",
       "      <td>telephone</td>\n",
       "      <td>may</td>\n",
       "      <td>mon</td>\n",
       "      <td>...</td>\n",
       "      <td>999</td>\n",
       "      <td>0</td>\n",
       "      <td>nonexistent</td>\n",
       "      <td>1.1</td>\n",
       "      <td>93.994</td>\n",
       "      <td>-36.4</td>\n",
       "      <td>4.857</td>\n",
       "      <td>5191.0</td>\n",
       "      <td>no</td>\n",
       "      <td>0</td>\n",
       "    </tr>\n",
       "  </tbody>\n",
       "</table>\n",
       "<p>5 rows × 22 columns</p>\n",
       "</div>"
      ],
      "text/plain": [
       "   age        job  marital    education  default housing loan    contact  \\\n",
       "0   56  housemaid  married     basic.4y       no      no   no  telephone   \n",
       "1   57   services  married  high.school  unknown      no   no  telephone   \n",
       "2   37   services  married  high.school       no     yes   no  telephone   \n",
       "3   40     admin.  married     basic.6y       no      no   no  telephone   \n",
       "4   56   services  married  high.school       no      no  yes  telephone   \n",
       "\n",
       "  month day_of_week  ...  pdays  previous     poutcome  emp.var.rate  \\\n",
       "0   may         mon  ...    999         0  nonexistent           1.1   \n",
       "1   may         mon  ...    999         0  nonexistent           1.1   \n",
       "2   may         mon  ...    999         0  nonexistent           1.1   \n",
       "3   may         mon  ...    999         0  nonexistent           1.1   \n",
       "4   may         mon  ...    999         0  nonexistent           1.1   \n",
       "\n",
       "  cons.price.idx  cons.conf.idx  euribor3m  nr.employed   y  y_class  \n",
       "0         93.994          -36.4      4.857       5191.0  no        0  \n",
       "1         93.994          -36.4      4.857       5191.0  no        0  \n",
       "2         93.994          -36.4      4.857       5191.0  no        0  \n",
       "3         93.994          -36.4      4.857       5191.0  no        0  \n",
       "4         93.994          -36.4      4.857       5191.0  no        0  \n",
       "\n",
       "[5 rows x 22 columns]"
      ]
     },
     "execution_count": 231,
     "metadata": {},
     "output_type": "execute_result"
    }
   ],
   "source": [
    "df_model.head()"
   ]
  },
  {
   "cell_type": "code",
   "execution_count": 232,
   "id": "dd57a58c",
   "metadata": {},
   "outputs": [
    {
     "data": {
      "text/plain": [
       "Index(['Unnamed: 0', 'age', 'job', 'marital', 'education', 'default',\n",
       "       'housing', 'loan', 'contact', 'month', 'day_of_week', 'duration',\n",
       "       'campaign', 'pdays', 'previous', 'poutcome', 'emp.var.rate',\n",
       "       'cons.price.idx', 'cons.conf.idx', 'euribor3m', 'nr.employed', 'y',\n",
       "       'y_class'],\n",
       "      dtype='object')"
      ]
     },
     "execution_count": 232,
     "metadata": {},
     "output_type": "execute_result"
    }
   ],
   "source": [
    "df.columns"
   ]
  },
  {
   "cell_type": "code",
   "execution_count": 233,
   "id": "d33b3da4",
   "metadata": {},
   "outputs": [],
   "source": [
    "columns_object = ['job', 'marital', 'education', 'default',\n",
    "       'housing', 'loan', 'contact', 'month', 'day_of_week','poutcome',]"
   ]
  },
  {
   "cell_type": "code",
   "execution_count": 234,
   "id": "0bbdb838",
   "metadata": {},
   "outputs": [],
   "source": [
    "from sklearn.preprocessing import LabelEncoder\n",
    "for column_object in columns_object:\n",
    "    df_model[column_object]\n",
    "    encoder = LabelEncoder()\n",
    "    col_data = df_model[column_object]\n",
    "    data_encoder = encoder.fit_transform(col_data)\n",
    "    df_model[f\"{column_object}_encoder\"] = data_encoder"
   ]
  },
  {
   "cell_type": "code",
   "execution_count": 235,
   "id": "05b3276c",
   "metadata": {},
   "outputs": [
    {
     "data": {
      "text/plain": [
       "Index(['age', 'job', 'marital', 'education', 'default', 'housing', 'loan',\n",
       "       'contact', 'month', 'day_of_week', 'duration', 'campaign', 'pdays',\n",
       "       'previous', 'poutcome', 'emp.var.rate', 'cons.price.idx',\n",
       "       'cons.conf.idx', 'euribor3m', 'nr.employed', 'y', 'y_class',\n",
       "       'job_encoder', 'marital_encoder', 'education_encoder',\n",
       "       'default_encoder', 'housing_encoder', 'loan_encoder', 'contact_encoder',\n",
       "       'month_encoder', 'day_of_week_encoder', 'poutcome_encoder'],\n",
       "      dtype='object')"
      ]
     },
     "execution_count": 235,
     "metadata": {},
     "output_type": "execute_result"
    }
   ],
   "source": [
    "df_model.columns"
   ]
  },
  {
   "cell_type": "code",
   "execution_count": 236,
   "id": "c3ebbfff",
   "metadata": {},
   "outputs": [
    {
     "data": {
      "text/plain": [
       "array([6, 4, 3, 1, 8, 7, 2, 5, 0, 9])"
      ]
     },
     "execution_count": 236,
     "metadata": {},
     "output_type": "execute_result"
    }
   ],
   "source": [
    "df_model[\"month_encoder\"].unique()"
   ]
  },
  {
   "cell_type": "code",
   "execution_count": 237,
   "id": "7391abc6",
   "metadata": {},
   "outputs": [],
   "source": [
    "columns_object.append(\"y\")\n",
    "columns_object.append(\"y_class\")"
   ]
  },
  {
   "cell_type": "code",
   "execution_count": 246,
   "id": "15914d1e",
   "metadata": {},
   "outputs": [],
   "source": [
    "# split the data into features and labels\n",
    "X,y = df_model.drop(columns_object,axis=1).values,df_model[\"y_class\"].values"
   ]
  },
  {
   "cell_type": "code",
   "execution_count": 245,
   "id": "2b8a34c4",
   "metadata": {},
   "outputs": [
    {
     "name": "stdout",
     "output_type": "stream",
     "text": [
      "<class 'pandas.core.frame.DataFrame'>\n",
      "RangeIndex: 41188 entries, 0 to 41187\n",
      "Data columns (total 32 columns):\n",
      " #   Column               Non-Null Count  Dtype  \n",
      "---  ------               --------------  -----  \n",
      " 0   age                  41188 non-null  int64  \n",
      " 1   job                  41188 non-null  object \n",
      " 2   marital              41188 non-null  object \n",
      " 3   education            41188 non-null  object \n",
      " 4   default              41188 non-null  object \n",
      " 5   housing              41188 non-null  object \n",
      " 6   loan                 41188 non-null  object \n",
      " 7   contact              41188 non-null  object \n",
      " 8   month                41188 non-null  object \n",
      " 9   day_of_week          41188 non-null  object \n",
      " 10  duration             41188 non-null  int64  \n",
      " 11  campaign             41188 non-null  int64  \n",
      " 12  pdays                41188 non-null  int64  \n",
      " 13  previous             41188 non-null  int64  \n",
      " 14  poutcome             41188 non-null  object \n",
      " 15  emp.var.rate         41188 non-null  float64\n",
      " 16  cons.price.idx       41188 non-null  float64\n",
      " 17  cons.conf.idx        41188 non-null  float64\n",
      " 18  euribor3m            41188 non-null  float64\n",
      " 19  nr.employed          41188 non-null  float64\n",
      " 20  y                    41188 non-null  object \n",
      " 21  y_class              41188 non-null  int64  \n",
      " 22  job_encoder          41188 non-null  int32  \n",
      " 23  marital_encoder      41188 non-null  int32  \n",
      " 24  education_encoder    41188 non-null  int32  \n",
      " 25  default_encoder      41188 non-null  int32  \n",
      " 26  housing_encoder      41188 non-null  int32  \n",
      " 27  loan_encoder         41188 non-null  int32  \n",
      " 28  contact_encoder      41188 non-null  int32  \n",
      " 29  month_encoder        41188 non-null  int32  \n",
      " 30  day_of_week_encoder  41188 non-null  int32  \n",
      " 31  poutcome_encoder     41188 non-null  int32  \n",
      "dtypes: float64(5), int32(10), int64(6), object(11)\n",
      "memory usage: 8.5+ MB\n"
     ]
    }
   ],
   "source": [
    "df_model.info()"
   ]
  },
  {
   "cell_type": "code",
   "execution_count": 239,
   "id": "45ef2594",
   "metadata": {},
   "outputs": [],
   "source": [
    "# train test split \n",
    "from sklearn.model_selection import train_test_split"
   ]
  },
  {
   "cell_type": "code",
   "execution_count": 244,
   "id": "55a87067",
   "metadata": {},
   "outputs": [
    {
     "name": "stdout",
     "output_type": "stream",
     "text": [
      "<class 'pandas.core.frame.DataFrame'>\n",
      "RangeIndex: 4119 entries, 0 to 4118\n",
      "Data columns (total 23 columns):\n",
      " #   Column          Non-Null Count  Dtype  \n",
      "---  ------          --------------  -----  \n",
      " 0   Unnamed: 0      4119 non-null   int64  \n",
      " 1   age             4119 non-null   int64  \n",
      " 2   job             4119 non-null   object \n",
      " 3   marital         4119 non-null   object \n",
      " 4   education       4119 non-null   object \n",
      " 5   default         4119 non-null   object \n",
      " 6   housing         4119 non-null   object \n",
      " 7   loan            4119 non-null   object \n",
      " 8   contact         4119 non-null   object \n",
      " 9   month           4119 non-null   object \n",
      " 10  day_of_week     4119 non-null   object \n",
      " 11  duration        4119 non-null   int64  \n",
      " 12  campaign        4119 non-null   int64  \n",
      " 13  pdays           4119 non-null   int64  \n",
      " 14  previous        4119 non-null   int64  \n",
      " 15  poutcome        4119 non-null   object \n",
      " 16  emp.var.rate    4119 non-null   float64\n",
      " 17  cons.price.idx  4119 non-null   float64\n",
      " 18  cons.conf.idx   4119 non-null   float64\n",
      " 19  euribor3m       4119 non-null   float64\n",
      " 20  nr.employed     4119 non-null   float64\n",
      " 21  y               4119 non-null   object \n",
      " 22  y_class         4119 non-null   int64  \n",
      "dtypes: float64(5), int64(7), object(11)\n",
      "memory usage: 740.3+ KB\n"
     ]
    }
   ],
   "source": [
    "df.info()"
   ]
  },
  {
   "cell_type": "code",
   "execution_count": 247,
   "id": "3a54d083",
   "metadata": {},
   "outputs": [
    {
     "name": "stdout",
     "output_type": "stream",
     "text": [
      "(32950, 20)\n",
      "(8238, 20)\n"
     ]
    }
   ],
   "source": [
    "X_train, X_test, y_train, y_test = train_test_split(X, y, test_size=0.2, random_state=423)\n",
    "print(X_train.shape),\n",
    "print(X_test.shape)"
   ]
  },
  {
   "cell_type": "code",
   "execution_count": 248,
   "id": "2571fd50",
   "metadata": {},
   "outputs": [],
   "source": [
    "from sklearn.pipeline import Pipeline\n",
    "from sklearn.preprocessing import StandardScaler\n",
    "from sklearn.svm import LinearSVC\n",
    "from sklearn.metrics import mean_absolute_error,accuracy_score\n",
    "from sklearn.tree import DecisionTreeClassifier\n",
    "from sklearn.model_selection import GridSearchCV\n",
    "from sklearn.naive_bayes import GaussianNB\n"
   ]
  },
  {
   "cell_type": "code",
   "execution_count": 249,
   "id": "ff0959d9",
   "metadata": {},
   "outputs": [
    {
     "name": "stderr",
     "output_type": "stream",
     "text": [
      "c:\\users\\mehdi\\appdata\\local\\programs\\python\\python39\\lib\\site-packages\\sklearn\\svm\\_base.py:1225: ConvergenceWarning: Liblinear failed to converge, increase the number of iterations.\n",
      "  warnings.warn(\n"
     ]
    },
    {
     "data": {
      "text/plain": [
       "(0.10293760621510076, 0.8970623937848993)"
      ]
     },
     "execution_count": 249,
     "metadata": {},
     "output_type": "execute_result"
    }
   ],
   "source": [
    "svm_clf = Pipeline((\n",
    "(\"scaler\", StandardScaler()),\n",
    "(\"linear_svc\", LinearSVC(C=1, loss=\"hinge\")),\n",
    "))\n",
    "svm_clf.fit(X_train, y_train)\n",
    "y_pred  = svm_clf.predict(X_test)\n",
    "mean_absolute_error(y_test,y_pred),accuracy_score(y_test,y_pred)"
   ]
  },
  {
   "cell_type": "code",
   "execution_count": 250,
   "id": "f0ba836d",
   "metadata": {},
   "outputs": [
    {
     "data": {
      "text/plain": [
       "(0.086185967467832, 0.913814032532168)"
      ]
     },
     "execution_count": 250,
     "metadata": {},
     "output_type": "execute_result"
    }
   ],
   "source": [
    "parameters = {'max_depth':range(1,10)}\n",
    "tree_clf = DecisionTreeClassifier()\n",
    "gs = GridSearchCV(tree_clf,parameters,scoring='accuracy',cv=3)\n",
    "gs.fit(X_train,y_train)\n",
    "mean_absolute_error(y_test,gs.predict(X_test)),accuracy_score(y_test,gs.predict(X_test))"
   ]
  },
  {
   "cell_type": "code",
   "execution_count": 251,
   "id": "e89d2a45",
   "metadata": {},
   "outputs": [
    {
     "data": {
      "text/plain": [
       "(DecisionTreeClassifier(max_depth=5), 0.9146889252159703)"
      ]
     },
     "execution_count": 251,
     "metadata": {},
     "output_type": "execute_result"
    }
   ],
   "source": [
    "gs.best_estimator_,gs.best_score_"
   ]
  },
  {
   "cell_type": "code",
   "execution_count": 252,
   "id": "b21432f2",
   "metadata": {},
   "outputs": [
    {
     "data": {
      "text/plain": [
       "(0.15173585821801408, 0.913814032532168, 0.848264141781986)"
      ]
     },
     "execution_count": 252,
     "metadata": {},
     "output_type": "execute_result"
    }
   ],
   "source": [
    "gaussion = GaussianNB()\n",
    "gaussion.fit(X_train,y_train)\n",
    "mean_absolute_error(y_test,gaussion.predict(X_test)),accuracy_score(y_test,gs.predict(X_test)),accuracy_score(y_test,gaussion.predict(X_test))"
   ]
  },
  {
   "cell_type": "code",
   "execution_count": 253,
   "id": "a7fc2538",
   "metadata": {},
   "outputs": [],
   "source": [
    "algo = [\"SVM\",\"DecistionTree\",\"Naive bayes\"]\n",
    "mae = [mean_absolute_error(y_test,y_pred),mean_absolute_error(y_test,gs.predict(X_test)),mean_absolute_error(y_test,gaussion.predict(X_test))]\n",
    "accuracy = [accuracy_score(y_test,svm_clf.predict(X_test)),accuracy_score(y_test,gs.predict(X_test)),accuracy_score(y_test,gaussion.predict(X_test))]"
   ]
  },
  {
   "cell_type": "code",
   "execution_count": 254,
   "id": "2a83bc5d",
   "metadata": {},
   "outputs": [
    {
     "data": {
      "text/plain": [
       "([0.10293760621510076, 0.086185967467832, 0.15173585821801408],\n",
       " [0.8970623937848993, 0.913814032532168, 0.848264141781986])"
      ]
     },
     "execution_count": 254,
     "metadata": {},
     "output_type": "execute_result"
    }
   ],
   "source": [
    "mae,accuracy"
   ]
  },
  {
   "cell_type": "code",
   "execution_count": 255,
   "id": "d4be39d6",
   "metadata": {},
   "outputs": [],
   "source": [
    "matrix  = pd.DataFrame(columns=[\"Mean absolute error\",\"Accuracy\",\"Algo\"])"
   ]
  },
  {
   "cell_type": "code",
   "execution_count": 256,
   "id": "5ab674b2",
   "metadata": {},
   "outputs": [
    {
     "data": {
      "text/html": [
       "<div>\n",
       "<style scoped>\n",
       "    .dataframe tbody tr th:only-of-type {\n",
       "        vertical-align: middle;\n",
       "    }\n",
       "\n",
       "    .dataframe tbody tr th {\n",
       "        vertical-align: top;\n",
       "    }\n",
       "\n",
       "    .dataframe thead th {\n",
       "        text-align: right;\n",
       "    }\n",
       "</style>\n",
       "<table border=\"1\" class=\"dataframe\">\n",
       "  <thead>\n",
       "    <tr style=\"text-align: right;\">\n",
       "      <th></th>\n",
       "      <th>Mean absolute error</th>\n",
       "      <th>Accuracy</th>\n",
       "      <th>Algo</th>\n",
       "    </tr>\n",
       "  </thead>\n",
       "  <tbody>\n",
       "  </tbody>\n",
       "</table>\n",
       "</div>"
      ],
      "text/plain": [
       "Empty DataFrame\n",
       "Columns: [Mean absolute error, Accuracy, Algo]\n",
       "Index: []"
      ]
     },
     "execution_count": 256,
     "metadata": {},
     "output_type": "execute_result"
    }
   ],
   "source": [
    "matrix"
   ]
  },
  {
   "cell_type": "code",
   "execution_count": 257,
   "id": "030c69b1",
   "metadata": {},
   "outputs": [],
   "source": [
    "matrix[\"Algo\"] = algo\n",
    "matrix[\"Mean absolute error\"] = mae\n",
    "matrix[\"Accuracy\"] = accuracy"
   ]
  },
  {
   "cell_type": "code",
   "execution_count": 258,
   "id": "597afa93",
   "metadata": {},
   "outputs": [
    {
     "data": {
      "text/html": [
       "<div>\n",
       "<style scoped>\n",
       "    .dataframe tbody tr th:only-of-type {\n",
       "        vertical-align: middle;\n",
       "    }\n",
       "\n",
       "    .dataframe tbody tr th {\n",
       "        vertical-align: top;\n",
       "    }\n",
       "\n",
       "    .dataframe thead th {\n",
       "        text-align: right;\n",
       "    }\n",
       "</style>\n",
       "<table border=\"1\" class=\"dataframe\">\n",
       "  <thead>\n",
       "    <tr style=\"text-align: right;\">\n",
       "      <th></th>\n",
       "      <th>Mean absolute error</th>\n",
       "      <th>Accuracy</th>\n",
       "      <th>Algo</th>\n",
       "    </tr>\n",
       "  </thead>\n",
       "  <tbody>\n",
       "    <tr>\n",
       "      <th>0</th>\n",
       "      <td>0.102938</td>\n",
       "      <td>0.897062</td>\n",
       "      <td>SVM</td>\n",
       "    </tr>\n",
       "    <tr>\n",
       "      <th>1</th>\n",
       "      <td>0.086186</td>\n",
       "      <td>0.913814</td>\n",
       "      <td>DecistionTree</td>\n",
       "    </tr>\n",
       "    <tr>\n",
       "      <th>2</th>\n",
       "      <td>0.151736</td>\n",
       "      <td>0.848264</td>\n",
       "      <td>Naive bayes</td>\n",
       "    </tr>\n",
       "  </tbody>\n",
       "</table>\n",
       "</div>"
      ],
      "text/plain": [
       "   Mean absolute error  Accuracy           Algo\n",
       "0             0.102938  0.897062            SVM\n",
       "1             0.086186  0.913814  DecistionTree\n",
       "2             0.151736  0.848264    Naive bayes"
      ]
     },
     "execution_count": 258,
     "metadata": {},
     "output_type": "execute_result"
    }
   ],
   "source": [
    "matrix"
   ]
  },
  {
   "cell_type": "code",
   "execution_count": 259,
   "id": "7a8459f1",
   "metadata": {},
   "outputs": [
    {
     "data": {
      "text/plain": [
       "<AxesSubplot: >"
      ]
     },
     "execution_count": 259,
     "metadata": {},
     "output_type": "execute_result"
    },
    {
     "data": {
      "image/png": "[encoded data removed]",
      "text/plain": [
       "<Figure size 640x480 with 1 Axes>"
      ]
     },
     "metadata": {},
     "output_type": "display_data"
    }
   ],
   "source": [
    "import seaborn as sns\n",
    "sns.barplot(x=matrix[\"Algo\"].values,y=matrix[\"Accuracy\"].values)"
   ]
  },
  {
   "cell_type": "code",
   "execution_count": 265,
   "id": "1f2192d9",
   "metadata": {},
   "outputs": [],
   "source": [
    "import pickle\n",
    "import os\n",
    "if not os.path.exists(\"model/\"):\n",
    "    os.makedirs('model/')\n",
    "pickl = {'model': gs.best_estimator_}\n",
    "pickle.dump( pickl, open( 'models/model_file' + \".p\", \"wb\" ) )\n",
    "\n",
    "file_name = \"models/model_file.p\"\n",
    "with open(file_name, 'rb') as pickled:\n",
    "    data = pickle.load(pickled)\n",
    "    model = data['model']"
   ]
  },
  {
   "cell_type": "code",
   "execution_count": 262,
   "id": "a96208d2",
   "metadata": {
    "scrolled": true
   },
   "outputs": [
    {
     "data": {
      "text/plain": [
       "0.086185967467832"
      ]
     },
     "execution_count": 262,
     "metadata": {},
     "output_type": "execute_result"
    }
   ],
   "source": [
    "mean_absolute_error(y_test,model.predict(X_test))"
   ]
  },
  {
   "cell_type": "code",
   "execution_count": 263,
   "id": "f90cac69",
   "metadata": {},
   "outputs": [],
   "source": [
    "if not os.path.exists(\"matrix/\"):\n",
    "    os.makedirs('matrix/')"
   ]
  },
  {
   "cell_type": "code",
   "execution_count": 264,
   "id": "6a2790ae",
   "metadata": {},
   "outputs": [],
   "source": [
    "matrix.to_csv(\"matrix/matrix.csv\")"
   ]
  },
  {
   "cell_type": "code",
   "execution_count": null,
   "id": "f2483324",
   "metadata": {},
   "outputs": [],
   "source": []
  }
 ],
 "metadata": {
  "kernelspec": {
   "display_name": "Python 3 (ipykernel)",
   "language": "python",
   "name": "python3"
  },
  "language_info": {
   "codemirror_mode": {
    "name": "ipython",
    "version": 3
   },
   "file_extension": ".py",
   "mimetype": "text/x-python",
   "name": "python",
   "nbconvert_exporter": "python",
   "pygments_lexer": "ipython3",
   "version": "3.9.2"
  }
 },
 "nbformat": 4,
 "nbformat_minor": 5
}
